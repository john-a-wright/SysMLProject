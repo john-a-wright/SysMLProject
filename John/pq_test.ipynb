{
 "cells": [
  {
   "cell_type": "code",
   "execution_count": 1,
   "metadata": {},
   "outputs": [
    {
     "name": "stderr",
     "output_type": "stream",
     "text": [
      "c:\\Users\\John\\AppData\\Local\\Programs\\Python\\Python312\\Lib\\site-packages\\tqdm\\auto.py:21: TqdmWarning: IProgress not found. Please update jupyter and ipywidgets. See https://ipywidgets.readthedocs.io/en/stable/user_install.html\n",
      "  from .autonotebook import tqdm as notebook_tqdm\n"
     ]
    }
   ],
   "source": [
    "from sift1m_dataset_builder import Builder\n",
    "import tensorflow_datasets.public_api as tfds\n",
    "from etils.epath import Path\n",
    "import numpy as np\n",
    "\n",
    "import os\n",
    "os.environ[\"KMP_DUPLICATE_LIB_OK\"]=\"TRUE\"\n",
    "\n",
    "import faiss\n",
    "import torch"
   ]
  },
  {
   "cell_type": "code",
   "execution_count": 20,
   "metadata": {},
   "outputs": [],
   "source": [
    "path = Path(\"B:/random ML datasets/dataset\")\n",
    "download_manager = tfds.download.DownloadManager(download_dir=path)"
   ]
  },
  {
   "cell_type": "code",
   "execution_count": 21,
   "metadata": {},
   "outputs": [
    {
     "name": "stderr",
     "output_type": "stream",
     "text": [
      "Dl Completed...: 0 url [00:00, ? url/s]\n",
      "Dl Completed...:   0%|          | 0/1 [00:00<?, ? url/s]\n",
      "Dl Completed...: 100%|██████████| 1/1 [00:00<00:00, 284.48 url/s]\n",
      "Dl Completed...: 100%|██████████| 1/1 [00:00<00:00, 181.34 url/s]\n",
      "Dl Completed...: 100%|██████████| 1/1 [00:00<00:00, 153.53 url/s]\n",
      "Extraction completed...: 0 file [00:00, ? file/s]\n",
      "Dl Size...: 100%|██████████| 525128288/525128288 [00:00<00:00, 61678736456.78 MiB/s]\n",
      "Dl Completed...: 100%|██████████| 1/1 [00:00<00:00, 105.10 url/s]\n"
     ]
    }
   ],
   "source": [
    "b = Builder()\n",
    "split = b._split_generators(download_manager)\n",
    "\n",
    "embeddingsGen = split[\"database\"]"
   ]
  },
  {
   "cell_type": "code",
   "execution_count": 22,
   "metadata": {},
   "outputs": [
    {
     "name": "stdout",
     "output_type": "stream",
     "text": [
      "50000\n",
      "100000\n",
      "150000\n",
      "200000\n",
      "250000\n",
      "300000\n",
      "350000\n",
      "400000\n",
      "450000\n",
      "500000\n",
      "550000\n",
      "600000\n",
      "650000\n",
      "700000\n",
      "750000\n",
      "800000\n",
      "850000\n",
      "900000\n",
      "950000\n",
      "1000000\n"
     ]
    }
   ],
   "source": [
    "tensor_list = []\n",
    "i = 0\n",
    "\n",
    "for tup in embeddingsGen:\n",
    "    dict = tup[1]\n",
    "    tensor_list.append(torch.tensor(dict[\"embedding\"]))\n",
    "    i=i+1\n",
    "    if i % 50000 == 0:\n",
    "        print(i)\n",
    "\n",
    "combined_tensor = torch.stack(tensor_list)\n",
    "\n",
    "pq_input_array = combined_tensor.numpy()"
   ]
  },
  {
   "cell_type": "code",
   "execution_count": 23,
   "metadata": {},
   "outputs": [
    {
     "name": "stdout",
     "output_type": "stream",
     "text": [
      "[[  0.  16.  35. ...  25.  23.   1.]\n",
      " [ 14.  35.  19. ...  11.  21.  33.]\n",
      " [  0.   1.   5. ...   4.  23.  10.]\n",
      " ...\n",
      " [ 30.  12.  12. ...  50.  10.   0.]\n",
      " [  0.   5.  12. ...   1.   2.  13.]\n",
      " [114.  31.   0. ...  25.  16.   0.]]\n",
      "128\n"
     ]
    }
   ],
   "source": [
    "print(pq_input_array)\n",
    "print(pq_input_array.shape[1])\n",
    "\n"
   ]
  },
  {
   "cell_type": "code",
   "execution_count": 14,
   "metadata": {},
   "outputs": [],
   "source": [
    "dim = pq_input_array.shape[1]\n",
    "numSubVectors = 8\n",
    "subVectorBits = 8\n",
    "\n",
    "pq = faiss.IndexPQ(dim, numSubVectors, subVectorBits)"
   ]
  },
  {
   "cell_type": "code",
   "execution_count": 15,
   "metadata": {},
   "outputs": [],
   "source": [
    "pq.train(pq_input_array)"
   ]
  },
  {
   "cell_type": "code",
   "execution_count": 16,
   "metadata": {},
   "outputs": [],
   "source": [
    "pq.add(pq_input_array)"
   ]
  },
  {
   "cell_type": "code",
   "execution_count": 17,
   "metadata": {},
   "outputs": [],
   "source": [
    "k = 10  \n",
    "distances, index = pq.search(pq_input_array[:10], k)"
   ]
  },
  {
   "cell_type": "code",
   "execution_count": 18,
   "metadata": {},
   "outputs": [
    {
     "name": "stdout",
     "output_type": "stream",
     "text": [
      "[[19890.656 35641.41  35940.766 37764.992 39859.07  40960.75  42346.03\n",
      "  45371.03  45506.082 47077.29 ]\n",
      " [17152.855 28981.86  30410.84  32897.1   40955.78  41304.99  41353.797\n",
      "  41561.242 41817.492 41827.53 ]\n",
      " [16306.107 26835.984 31727.46  32955.586 33282.043 33584.977 33938.65\n",
      "  34051.414 34066.57  35424.727]\n",
      " [18342.58  26773.863 31244.035 34709.293 36348.89  36804.71  36837.83\n",
      "  37230.62  37981.734 38678.227]\n",
      " [15489.635 33504.04  34986.164 35055.14  36468.562 36593.742 36680.844\n",
      "  37729.03  38740.016 38914.195]\n",
      " [17158.016 29218.64  35154.46  35902.484 35902.484 36024.523 36241.883\n",
      "  37539.977 37801.984 38110.78 ]\n",
      " [27275.99  35146.445 43460.652 46560.188 48121.797 48271.984 48414.688\n",
      "  48819.477 49835.71  50383.742]\n",
      " [25039.281 40667.6   42268.64  42574.637 45034.03  45094.83  45142.79\n",
      "  45563.047 46172.438 46572.652]\n",
      " [17948.871 19449.863 22320.523 33307.918 34146.535 35640.23  36739.133\n",
      "  40383.03  40779.832 42377.39 ]\n",
      " [25596.781 27175.95  31074.238 38139.14  38223.31  38462.3   39613.95\n",
      "  39836.703 40574.383 41896.758]]\n",
      "[[     0      6      2 633385 658180 451321 480592 528709  83606 677793]\n",
      " [     1      3     14      7 353105 261839 889499 688750 295327 162309]\n",
      " [     2 658180  83606 633385      0 216395 248230 772094 677834 246710]\n",
      " [     3      1     14  61075 217344 321472 295164 504474 216396 295818]\n",
      " [     4 798280     12 726289  91907 812544 294567 229106 991777 345500]\n",
      " [     5     13 683545 192631 271447 306990 252066 607342 251256 728936]\n",
      " [     6      0 663686 633385 431162 432221 677793 695975 520055 547502]\n",
      " [     7 719542      1 120479 719607 123163 433831 433826 381332 318051]\n",
      " [     8     29     20     10     18 734552 943380  90378 869018 769638]\n",
      " [     9     30     21 464839 487957 635777 798295 464874 430873 636013]]\n"
     ]
    }
   ],
   "source": [
    "print(distances)\n",
    "print(index)"
   ]
  }
 ],
 "metadata": {
  "kernelspec": {
   "display_name": "Python 3",
   "language": "python",
   "name": "python3"
  },
  "language_info": {
   "codemirror_mode": {
    "name": "ipython",
    "version": 3
   },
   "file_extension": ".py",
   "mimetype": "text/x-python",
   "name": "python",
   "nbconvert_exporter": "python",
   "pygments_lexer": "ipython3",
   "version": "3.12.2"
  }
 },
 "nbformat": 4,
 "nbformat_minor": 2
}
