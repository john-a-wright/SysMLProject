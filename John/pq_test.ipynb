{
 "cells": [
  {
   "cell_type": "code",
   "execution_count": 1,
   "metadata": {},
   "outputs": [
    {
     "name": "stderr",
     "output_type": "stream",
     "text": [
      "c:\\Users\\John\\AppData\\Local\\Programs\\Python\\Python312\\Lib\\site-packages\\tqdm\\auto.py:21: TqdmWarning: IProgress not found. Please update jupyter and ipywidgets. See https://ipywidgets.readthedocs.io/en/stable/user_install.html\n",
      "  from .autonotebook import tqdm as notebook_tqdm\n"
     ]
    }
   ],
   "source": [
    "from sift1m_dataset_builder import Builder\n",
    "import tensorflow_datasets.public_api as tfds\n",
    "from etils.epath import Path"
   ]
  },
  {
   "cell_type": "code",
   "execution_count": 2,
   "metadata": {},
   "outputs": [],
   "source": [
    "path = Path(\"B:/random ML datasets/dataset\")\n",
    "download_manager = tfds.download.DownloadManager(download_dir=path)"
   ]
  },
  {
   "cell_type": "code",
   "execution_count": 3,
   "metadata": {},
   "outputs": [
    {
     "name": "stderr",
     "output_type": "stream",
     "text": [
      "Dl Completed...: 0 url [00:00, ? url/s]\n",
      "Dl Completed...:   0%|          | 0/1 [00:01<?, ? url/s]\n",
      "Dl Completed...: 100%|██████████| 1/1 [00:01<00:00,  1.76s/ url]\n",
      "Dl Completed...: 100%|██████████| 1/1 [00:01<00:00,  1.76s/ url]\n",
      "Dl Completed...: 100%|██████████| 1/1 [00:01<00:00,  1.76s/ url]\n",
      "Extraction completed...: 0 file [00:01, ? file/s]\n",
      "Dl Size...: 100%|██████████| 525128288/525128288 [00:01<00:00, 297722526.57 MiB/s]\n",
      "Dl Completed...: 100%|██████████| 1/1 [00:01<00:00,  1.76s/ url]\n"
     ]
    }
   ],
   "source": [
    "b = Builder()\n",
    "split = b._split_generators(download_manager)"
   ]
  },
  {
   "cell_type": "code",
   "execution_count": 4,
   "metadata": {},
   "outputs": [
    {
     "data": {
      "text/plain": [
       "dict_items([('database', <generator object Builder._generate_examples at 0x000002913C9ECEB0>), ('test', <generator object Builder._generate_examples at 0x000002913C9ED000>)])"
      ]
     },
     "execution_count": 4,
     "metadata": {},
     "output_type": "execute_result"
    }
   ],
   "source": [
    "split.items()"
   ]
  }
 ],
 "metadata": {
  "kernelspec": {
   "display_name": "Python 3",
   "language": "python",
   "name": "python3"
  },
  "language_info": {
   "codemirror_mode": {
    "name": "ipython",
    "version": 3
   },
   "file_extension": ".py",
   "mimetype": "text/x-python",
   "name": "python",
   "nbconvert_exporter": "python",
   "pygments_lexer": "ipython3",
   "version": "3.12.2"
  }
 },
 "nbformat": 4,
 "nbformat_minor": 2
}
