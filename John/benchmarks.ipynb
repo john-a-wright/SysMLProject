{
 "cells": [
  {
   "cell_type": "code",
   "execution_count": 2,
   "metadata": {},
   "outputs": [],
   "source": [
    "from sift1m_dataset_builder import Builder\n",
    "import tensorflow_datasets.public_api as tfds\n",
    "from etils.epath import Path\n",
    "import numpy as np\n",
    "from sit1m_data_preprocessing import *\n",
    "import time\n",
    "import random\n",
    "\n",
    "import os\n",
    "os.environ[\"KMP_DUPLICATE_LIB_OK\"]=\"TRUE\"\n",
    "\n",
    "import faiss\n",
    "import torch"
   ]
  },
  {
   "cell_type": "code",
   "execution_count": 3,
   "metadata": {},
   "outputs": [
    {
     "name": "stdout",
     "output_type": "stream",
     "text": [
      "Building Sift1M\n"
     ]
    },
    {
     "name": "stderr",
     "output_type": "stream",
     "text": [
      "Dl Completed...: 0 url [00:00, ? url/s]\n",
      "Dl Completed...:   0%|          | 0/1 [00:04<?, ? url/s]\n",
      "Dl Completed...: 100%|██████████| 1/1 [00:04<00:00,  4.64s/ url]\n",
      "Dl Completed...: 100%|██████████| 1/1 [00:04<00:00,  4.64s/ url]\n",
      "Dl Completed...: 100%|██████████| 1/1 [00:04<00:00,  4.64s/ url]\n",
      "Extraction completed...: 0 file [00:04, ? file/s]\n",
      "Dl Size...: 100%|██████████| 525128288/525128288 [00:04<00:00, 112970547.61 MiB/s]\n",
      "Dl Completed...: 100%|██████████| 1/1 [00:04<00:00,  4.65s/ url]\n"
     ]
    }
   ],
   "source": [
    "dataset_download_path = \"D:/College/SysML/dataset\"\n",
    "splits = build_sift1m(dataset_download_path)"
   ]
  },
  {
   "cell_type": "code",
   "execution_count": 4,
   "metadata": {},
   "outputs": [
    {
     "name": "stdout",
     "output_type": "stream",
     "text": [
      "Building train split array\n",
      "Found existing train data file\n",
      "Building test split array\n",
      "Progress: 50.0%\n",
      "Progress: 100.0%\n"
     ]
    }
   ],
   "source": [
    "train_input_array = get_train_split(splits)\n",
    "test_input_array, neighbors = get_test_split(splits)"
   ]
  },
  {
   "cell_type": "markdown",
   "metadata": {},
   "source": [
    "## Benchmark Evaluation"
   ]
  },
  {
   "cell_type": "code",
   "execution_count": 26,
   "metadata": {},
   "outputs": [],
   "source": [
    "dim = train_input_array.shape[1]\n",
    "numSubVectors = 8 #16\n",
    "subVectorBits = 8\n",
    "\n",
    "#model = faiss.IndexFlatL2(dim) # Flat\n",
    "#model = faiss.IndexPQ(dim, numSubVectors, 8) # PQ8\n",
    "#model = faiss.IndexPQ(dim, 16, 8) # PQ16\n",
    "model = faiss.index_factory(dim, \"IVF4096_HNSW,PQ32\") # HNSW + PQ32\n"
   ]
  },
  {
   "cell_type": "code",
   "execution_count": 27,
   "metadata": {},
   "outputs": [],
   "source": [
    "model.train(train_input_array)\n",
    "model.add(train_input_array)"
   ]
  },
  {
   "cell_type": "code",
   "execution_count": 28,
   "metadata": {},
   "outputs": [],
   "source": [
    "k = 5\n",
    "distances, indexes = model.search(test_input_array[:10000], k)"
   ]
  },
  {
   "cell_type": "code",
   "execution_count": 29,
   "metadata": {},
   "outputs": [
    {
     "name": "stdout",
     "output_type": "stream",
     "text": [
      "0.68914\n"
     ]
    }
   ],
   "source": [
    "# Relevancy\n",
    "\n",
    "t = 25\n",
    "i = 0\n",
    "relevantPercent = []\n",
    "\n",
    "for entry in neighbors:\n",
    "\n",
    "    topIndexs = []\n",
    "    for x in range(t):\n",
    "        index_dict = entry[x]\n",
    "        topIndexs.append(index_dict[\"index\"])\n",
    "\n",
    "    search_results = indexes[i]\n",
    "\n",
    "    count = 0\n",
    "\n",
    "    for x in search_results:\n",
    "        if x in topIndexs:\n",
    "            count+=1\n",
    "\n",
    "    relevantPercent.append(count/k)\n",
    "    \n",
    "    i=i+1\n",
    "        \n",
    "\n",
    "print(sum(relevantPercent) / len(relevantPercent))"
   ]
  },
  {
   "cell_type": "code",
   "execution_count": 30,
   "metadata": {},
   "outputs": [
    {
     "name": "stdout",
     "output_type": "stream",
     "text": [
      "File size in bytes: 43373033\n"
     ]
    }
   ],
   "source": [
    "# Size\n",
    "idx_file = open(\"./temp.index\", \"w\")\n",
    "idx_file.truncate(0)\n",
    "idx_file.close()\n",
    "faiss.write_index(model, \"./temp.index\")\n",
    "file_size = os.path.getsize('./temp.index')\n",
    "os.remove(\"./temp.index\")\n",
    "print(\"File size in bytes: \" + str(file_size))"
   ]
  },
  {
   "cell_type": "code",
   "execution_count": 31,
   "metadata": {},
   "outputs": [
    {
     "name": "stdout",
     "output_type": "stream",
     "text": [
      "Average search time:  0.00014315223693847656  seconds\n"
     ]
    }
   ],
   "source": [
    "# Search Speed\n",
    "total_time = 0\n",
    "iterations = 1000\n",
    "\n",
    "for x in range(iterations):\n",
    "\n",
    "    k = 25\n",
    "    index = random.randint(0, 9999)\n",
    "\n",
    "    input = np.empty((0,128))\n",
    "    input = np.vstack([input,test_input_array[index]])\n",
    "\n",
    "    start_time = time.time()\n",
    "    distances, index = model.search(input, k)\n",
    "    end_time = time.time()\n",
    "\n",
    "    total_time += end_time - start_time\n",
    "\n",
    "\n",
    "print(\"Average search time: \", total_time/iterations, \" seconds\")"
   ]
  }
 ],
 "metadata": {
  "kernelspec": {
   "display_name": "Python 3",
   "language": "python",
   "name": "python3"
  },
  "language_info": {
   "codemirror_mode": {
    "name": "ipython",
    "version": 3
   },
   "file_extension": ".py",
   "mimetype": "text/x-python",
   "name": "python",
   "nbconvert_exporter": "python",
   "pygments_lexer": "ipython3",
   "version": "3.12.2"
  }
 },
 "nbformat": 4,
 "nbformat_minor": 2
}
