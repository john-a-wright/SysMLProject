{
 "cells": [
  {
   "cell_type": "code",
   "execution_count": 1,
   "metadata": {},
   "outputs": [
    {
     "name": "stderr",
     "output_type": "stream",
     "text": [
      "c:\\Users\\John\\AppData\\Local\\Programs\\Python\\Python312\\Lib\\site-packages\\tqdm\\auto.py:21: TqdmWarning: IProgress not found. Please update jupyter and ipywidgets. See https://ipywidgets.readthedocs.io/en/stable/user_install.html\n",
      "  from .autonotebook import tqdm as notebook_tqdm\n"
     ]
    }
   ],
   "source": [
    "from sift1m_dataset_builder import Builder\n",
    "import tensorflow_datasets.public_api as tfds\n",
    "from etils.epath import Path\n",
    "import numpy as np\n",
    "import time\n",
    "import random\n",
    "\n",
    "import os\n",
    "os.environ[\"KMP_DUPLICATE_LIB_OK\"]=\"TRUE\"\n",
    "\n",
    "import faiss\n",
    "import torch"
   ]
  },
  {
   "cell_type": "code",
   "execution_count": 2,
   "metadata": {},
   "outputs": [],
   "source": [
    "path = Path(\"B:/random ML datasets/dataset\")\n",
    "download_manager = tfds.download.DownloadManager(download_dir=path)"
   ]
  },
  {
   "cell_type": "code",
   "execution_count": 3,
   "metadata": {},
   "outputs": [
    {
     "name": "stderr",
     "output_type": "stream",
     "text": [
      "Dl Completed...: 0 url [00:00, ? url/s]\n",
      "Dl Completed...:   0%|          | 0/1 [00:03<?, ? url/s]\n",
      "Dl Completed...: 100%|██████████| 1/1 [00:03<00:00,  3.14s/ url]\n",
      "Dl Completed...: 100%|██████████| 1/1 [00:03<00:00,  3.14s/ url]\n",
      "Dl Completed...: 100%|██████████| 1/1 [00:03<00:00,  3.14s/ url]\n",
      "Extraction completed...: 0 file [00:03, ? file/s]\n",
      "Dl Size...: 100%|██████████| 525128288/525128288 [00:03<00:00, 166888764.39 MiB/s]\n",
      "Dl Completed...: 100%|██████████| 1/1 [00:03<00:00,  3.15s/ url]\n"
     ]
    }
   ],
   "source": [
    "b = Builder()\n",
    "split = b._split_generators(download_manager)\n",
    "\n",
    "embeddingsGen = split[\"database\"]"
   ]
  },
  {
   "cell_type": "code",
   "execution_count": 4,
   "metadata": {},
   "outputs": [
    {
     "name": "stdout",
     "output_type": "stream",
     "text": [
      "50000\n",
      "100000\n",
      "150000\n",
      "200000\n",
      "250000\n",
      "300000\n",
      "350000\n",
      "400000\n",
      "450000\n",
      "500000\n",
      "550000\n",
      "600000\n",
      "650000\n",
      "700000\n",
      "750000\n",
      "800000\n",
      "850000\n",
      "900000\n",
      "950000\n",
      "1000000\n"
     ]
    }
   ],
   "source": [
    "tensor_list = []\n",
    "i = 0\n",
    "\n",
    "for tup in embeddingsGen:\n",
    "    dict = tup[1]\n",
    "    tensor_list.append(torch.tensor(dict[\"embedding\"]))\n",
    "    i=i+1\n",
    "    if i % 50000 == 0:\n",
    "        print(i)\n",
    "\n",
    "combined_tensor = torch.stack(tensor_list)\n",
    "\n",
    "pq_input_array = combined_tensor.numpy()"
   ]
  },
  {
   "cell_type": "code",
   "execution_count": 5,
   "metadata": {},
   "outputs": [
    {
     "name": "stdout",
     "output_type": "stream",
     "text": [
      "[[  0.  16.  35. ...  25.  23.   1.]\n",
      " [ 14.  35.  19. ...  11.  21.  33.]\n",
      " [  0.   1.   5. ...   4.  23.  10.]\n",
      " ...\n",
      " [ 30.  12.  12. ...  50.  10.   0.]\n",
      " [  0.   5.  12. ...   1.   2.  13.]\n",
      " [114.  31.   0. ...  25.  16.   0.]]\n",
      "128\n"
     ]
    }
   ],
   "source": [
    "print(pq_input_array)\n",
    "print(pq_input_array.shape[1])\n",
    "\n"
   ]
  },
  {
   "cell_type": "code",
   "execution_count": 6,
   "metadata": {},
   "outputs": [
    {
     "name": "stdout",
     "output_type": "stream",
     "text": [
      "5000\n",
      "10000\n"
     ]
    }
   ],
   "source": [
    "embeddingsGenTest = split[\"test\"]\n",
    "\n",
    "tensor_list_test = []\n",
    "i = 0\n",
    "\n",
    "for tup in embeddingsGenTest:\n",
    "    dict = tup[1]\n",
    "    tensor_list_test.append(torch.tensor(dict[\"embedding\"]))\n",
    "    i=i+1\n",
    "    if i % 5000 == 0:\n",
    "        print(i)\n",
    "\n",
    "combined_tensor_test = torch.stack(tensor_list_test)\n",
    "\n",
    "pq_input_array_test = combined_tensor_test.numpy()"
   ]
  },
  {
   "cell_type": "code",
   "execution_count": 7,
   "metadata": {},
   "outputs": [],
   "source": [
    "dim = pq_input_array.shape[1]\n",
    "\n",
    "pq = faiss.IndexFlatL2(dim)"
   ]
  },
  {
   "cell_type": "code",
   "execution_count": 8,
   "metadata": {},
   "outputs": [],
   "source": [
    "pq.add(pq_input_array)"
   ]
  },
  {
   "cell_type": "code",
   "execution_count": 13,
   "metadata": {},
   "outputs": [],
   "source": [
    "k = 10\n",
    "distances, index = pq.search(pq_input_array_test[:10000], k)"
   ]
  },
  {
   "cell_type": "code",
   "execution_count": 9,
   "metadata": {},
   "outputs": [
    {
     "data": {
      "text/plain": [
       "512000045"
      ]
     },
     "execution_count": 9,
     "metadata": {},
     "output_type": "execute_result"
    }
   ],
   "source": [
    "idx_file = open(\"./temp.index\", \"w\")\n",
    "idx_file.truncate(0)\n",
    "idx_file.close()\n",
    "faiss.write_index(pq, \"./temp.index\")\n",
    "file_size = os.path.getsize('./temp.index')\n",
    "file_size"
   ]
  },
  {
   "cell_type": "code",
   "execution_count": 35,
   "metadata": {},
   "outputs": [
    {
     "name": "stdout",
     "output_type": "stream",
     "text": [
      "avg search time:  0.18311583757400512  seconds\n"
     ]
    }
   ],
   "source": [
    "total_time = 0\n",
    "iterations = 100\n",
    "\n",
    "for x in range(1000):\n",
    "\n",
    "    k = 100\n",
    "    index = random.randint(0, 9999)\n",
    "\n",
    "    input = np.empty((0,128))\n",
    "    input = np.vstack([input,pq_input_array_test[index]])\n",
    "\n",
    "    start_time = time.time()\n",
    "    distances, index = pq.search(pq_input_array_test[:1], k)\n",
    "    end_time = time.time()\n",
    "\n",
    "    total_time += end_time - start_time\n",
    "\n",
    "\n",
    "print(\"avg search time: \", total_time/iterations, \" seconds\")\n",
    "\n"
   ]
  },
  {
   "cell_type": "code",
   "execution_count": 14,
   "metadata": {},
   "outputs": [
    {
     "name": "stdout",
     "output_type": "stream",
     "text": [
      "[[58119.703]\n",
      " [49479.9  ]\n",
      " [29417.957]\n",
      " ...\n",
      " [48807.5  ]\n",
      " [48033.57 ]\n",
      " [37722.516]]\n",
      "[[932085]\n",
      " [830117]\n",
      " [861530]\n",
      " ...\n",
      " [534149]\n",
      " [824828]\n",
      " [310710]]\n"
     ]
    }
   ],
   "source": [
    "print(distances)\n",
    "print(index)"
   ]
  },
  {
   "cell_type": "code",
   "execution_count": 10,
   "metadata": {},
   "outputs": [
    {
     "name": "stderr",
     "output_type": "stream",
     "text": [
      "Dl Completed...: 0 url [00:00, ? url/s]\n",
      "Extraction completed...: 0 file [00:00, ? file/s]\n",
      "Dl Size...: 0 MiB [00:00, ? MiB/s]\n",
      "Dl Completed...: 0 url [00:00, ? url/s]\n"
     ]
    },
    {
     "name": "stdout",
     "output_type": "stream",
     "text": [
      "1.0\n"
     ]
    }
   ],
   "source": [
    "# new recall-ish metric\n",
    "\n",
    "k = 5 # number of returned neighbors for each embedding\n",
    "t = 25 # top X number of closest neighbors\n",
    "\n",
    "\n",
    "distances, index = pq.search(pq_input_array_test[:10000], k)\n",
    "\n",
    "\n",
    "b = Builder()\n",
    "split = b._split_generators(download_manager)\n",
    "\n",
    "embeddingsGenTest = split[\"test\"]\n",
    "\n",
    "i = 0\n",
    "relevantPercent = []\n",
    "\n",
    "for tup in embeddingsGenTest:\n",
    "    dict = tup[1]\n",
    "    \n",
    "    neighbors = dict[\"neighbors\"]\n",
    "\n",
    "    topIndexs = []\n",
    "    for x in range(t):\n",
    "        index_dict = neighbors[x]\n",
    "        topIndexs.append(index_dict[\"index\"])\n",
    "\n",
    "    search_results = index[i]\n",
    "\n",
    "    count = 0\n",
    "\n",
    "    for x in search_results:\n",
    "        if x in topIndexs:\n",
    "            count+=1\n",
    "\n",
    "    relevantPercent.append(count/k)\n",
    "    \n",
    "    i=i+1\n",
    "        \n",
    "\n",
    "print(sum(relevantPercent) / len(relevantPercent))"
   ]
  },
  {
   "cell_type": "code",
   "execution_count": 14,
   "metadata": {},
   "outputs": [
    {
     "name": "stderr",
     "output_type": "stream",
     "text": [
      "Dl Completed...: 0 url [00:00, ? url/s]\n",
      "Extraction completed...: 0 file [00:00, ? file/s]\n",
      "Dl Size...: 0 MiB [00:00, ? MiB/s]\n",
      "Dl Completed...: 0 url [00:00, ? url/s]\n"
     ]
    },
    {
     "name": "stdout",
     "output_type": "stream",
     "text": [
      "break\n",
      "10000\n"
     ]
    }
   ],
   "source": [
    "b = Builder()\n",
    "split = b._split_generators(download_manager)\n",
    "\n",
    "embeddingsGenTest = split[\"test\"]\n",
    "\n",
    "i = 0\n",
    "recallAt5 = 0\n",
    "\n",
    "for tup in embeddingsGenTest:\n",
    "    dict = tup[1]\n",
    "    \n",
    "    neighbors = dict[\"neighbors\"]\n",
    "\n",
    "    topIndexs = []\n",
    "    for x in range(1):\n",
    "        index_dict = neighbors[x]\n",
    "        topIndexs.append(index_dict[\"index\"])\n",
    "\n",
    "    search_results = index[i]\n",
    "    if topIndexs[0] in search_results:\n",
    "        recallAt5 += 1\n",
    "    \n",
    "    if i == 99:\n",
    "        print(\"break\")\n",
    "        #break\n",
    "    \n",
    "    i=i+1\n",
    "        \n",
    "\n",
    "print(recallAt5)"
   ]
  },
  {
   "cell_type": "code",
   "execution_count": 33,
   "metadata": {},
   "outputs": [
    {
     "name": "stderr",
     "output_type": "stream",
     "text": [
      "Dl Completed...: 0 url [00:00, ? url/s]\n",
      "Extraction completed...: 0 file [00:00, ? file/s]\n",
      "Dl Size...: 0 MiB [00:00, ? MiB/s]\n",
      "Dl Completed...: 0 url [00:00, ? url/s]"
     ]
    },
    {
     "name": "stdout",
     "output_type": "stream",
     "text": [
      "{'index': 0, 'embedding': array([  1.,   3.,  11., 110.,  62.,  22.,   4.,   0.,  43.,  21.,  22.,\n",
      "        18.,   6.,  28.,  64.,   9.,  11.,   1.,   0.,   0.,   1.,  40.,\n",
      "       101.,  21.,  20.,   2.,   4.,   2.,   2.,   9.,  18.,  35.,   1.,\n",
      "         1.,   7.,  25., 108., 116.,  63.,   2.,   0.,   0.,  11.,  74.,\n",
      "        40., 101., 116.,   3.,  33.,   1.,   1.,  11.,  14.,  18., 116.,\n",
      "       116.,  68.,  12.,   5.,   4.,   2.,   2.,   9., 102.,  17.,   3.,\n",
      "        10.,  18.,   8.,  15.,  67.,  63.,  15.,   0.,  14., 116.,  80.,\n",
      "         0.,   2.,  22.,  96.,  37.,  28.,  88.,  43.,   1.,   4.,  18.,\n",
      "       116.,  51.,   5.,  11.,  32.,  14.,   8.,  23.,  44.,  17.,  12.,\n",
      "         9.,   0.,   0.,  19.,  37.,  85.,  18.,  16., 104.,  22.,   6.,\n",
      "         2.,  26.,  12.,  58.,  67.,  82.,  25.,  12.,   2.,   2.,  25.,\n",
      "        18.,   8.,   2.,  19.,  42.,  48.,  11.], dtype=float32), 'neighbors': [{'index': 932085, 'distance': 232.87122}, {'index': 934876, 'distance': 234.71472}, {'index': 561813, 'distance': 243.98976}, {'index': 708177, 'distance': 255.46037}, {'index': 706771, 'distance': 256.31427}, {'index': 695756, 'distance': 258.86288}, {'index': 435345, 'distance': 261.24127}, {'index': 701258, 'distance': 264.28015}, {'index': 455537, 'distance': 267.2845}, {'index': 872728, 'distance': 268.06903}, {'index': 36538, 'distance': 270.82098}, {'index': 562594, 'distance': 271.17706}, {'index': 908244, 'distance': 271.25818}, {'index': 600499, 'distance': 271.64868}, {'index': 893601, 'distance': 272.0588}, {'index': 619660, 'distance': 272.68295}, {'index': 562167, 'distance': 274.0876}, {'index': 746931, 'distance': 274.87088}, {'index': 565419, 'distance': 275.01636}, {'index': 236647, 'distance': 275.1436}, {'index': 568573, 'distance': 275.57938}, {'index': 565814, 'distance': 275.77347}, {'index': 36267, 'distance': 276.73633}, {'index': 2176, 'distance': 276.7815}, {'index': 931632, 'distance': 276.84833}, {'index': 454263, 'distance': 276.88266}, {'index': 3752, 'distance': 277.49594}, {'index': 910119, 'distance': 278.50314}, {'index': 722642, 'distance': 278.54443}, {'index': 843384, 'distance': 278.54623}, {'index': 886630, 'distance': 278.67545}, {'index': 68299, 'distance': 279.13617}, {'index': 779712, 'distance': 279.44946}, {'index': 871066, 'distance': 279.86426}, {'index': 721706, 'distance': 280.455}, {'index': 49874, 'distance': 280.87186}, {'index': 886222, 'distance': 280.9128}, {'index': 480497, 'distance': 281.46582}, {'index': 619829, 'distance': 281.61853}, {'index': 701919, 'distance': 281.97162}, {'index': 882, 'distance': 282.31543}, {'index': 87578, 'distance': 282.61987}, {'index': 224263, 'distance': 283.27725}, {'index': 4009, 'distance': 283.6371}, {'index': 871568, 'distance': 283.72345}, {'index': 478814, 'distance': 283.801}, {'index': 225116, 'distance': 283.97006}, {'index': 904911, 'distance': 284.02112}, {'index': 391655, 'distance': 284.1637}, {'index': 541845, 'distance': 284.18478}, {'index': 565484, 'distance': 284.4064}, {'index': 2837, 'distance': 284.5962}, {'index': 102903, 'distance': 284.7262}, {'index': 159953, 'distance': 284.76834}, {'index': 171663, 'distance': 284.86487}, {'index': 957845, 'distance': 285.3051}, {'index': 791852, 'distance': 285.33664}, {'index': 368702, 'distance': 285.80762}, {'index': 453447, 'distance': 285.90033}, {'index': 915482, 'distance': 286.0612}, {'index': 930567, 'distance': 286.12933}, {'index': 544275, 'distance': 286.15207}, {'index': 180955, 'distance': 286.19748}, {'index': 59844, 'distance': 286.20447}, {'index': 882946, 'distance': 286.21844}, {'index': 899809, 'distance': 286.30228}, {'index': 882961, 'distance': 286.3407}, {'index': 988166, 'distance': 286.35468}, {'index': 860056, 'distance': 286.39658}, {'index': 221339, 'distance': 286.44196}, {'index': 556209, 'distance': 286.56763}, {'index': 544202, 'distance': 286.66183}, {'index': 394507, 'distance': 286.67227}, {'index': 486457, 'distance': 286.72287}, {'index': 529986, 'distance': 286.99826}, {'index': 732473, 'distance': 287.05576}, {'index': 104122, 'distance': 287.14978}, {'index': 923811, 'distance': 287.23685}, {'index': 564914, 'distance': 287.29254}, {'index': 36139, 'distance': 287.40738}, {'index': 710644, 'distance': 287.42825}, {'index': 806773, 'distance': 287.5274}, {'index': 465294, 'distance': 287.64908}, {'index': 237161, 'distance': 287.66647}, {'index': 871048, 'distance': 287.75336}, {'index': 569837, 'distance': 287.83154}, {'index': 374617, 'distance': 287.98785}, {'index': 463781, 'distance': 288.00522}, {'index': 956733, 'distance': 288.1302}, {'index': 919197, 'distance': 288.151}, {'index': 678385, 'distance': 288.23428}, {'index': 158759, 'distance': 288.4025}, {'index': 240996, 'distance': 288.47357}, {'index': 931948, 'distance': 288.49435}, {'index': 16429, 'distance': 288.62952}, {'index': 91348, 'distance': 288.63992}, {'index': 63349, 'distance': 288.68842}, {'index': 398306, 'distance': 288.75076}, {'index': 931721, 'distance': 288.81656}, {'index': 989762, 'distance': 288.90482}]}\n"
     ]
    },
    {
     "name": "stderr",
     "output_type": "stream",
     "text": [
      "\n"
     ]
    }
   ],
   "source": [
    "b = Builder()\n",
    "split = b._split_generators(download_manager)\n",
    "\n",
    "embeddingsGenTest = split[\"test\"]\n",
    "\n",
    "tup = next(embeddingsGenTest)\n",
    "dict = tup[1]\n",
    "print(dict)"
   ]
  }
 ],
 "metadata": {
  "kernelspec": {
   "display_name": "Python 3",
   "language": "python",
   "name": "python3"
  },
  "language_info": {
   "codemirror_mode": {
    "name": "ipython",
    "version": 3
   },
   "file_extension": ".py",
   "mimetype": "text/x-python",
   "name": "python",
   "nbconvert_exporter": "python",
   "pygments_lexer": "ipython3",
   "version": "3.12.2"
  }
 },
 "nbformat": 4,
 "nbformat_minor": 2
}
