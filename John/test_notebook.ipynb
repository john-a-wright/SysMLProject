{
 "cells": [
  {
   "cell_type": "code",
   "execution_count": null,
   "metadata": {},
   "outputs": [],
   "source": [
    "# imports\n",
    "from sit1m_data_preprocessing import *\n",
    "import numpy as np"
   ]
  },
  {
   "cell_type": "code",
   "execution_count": 3,
   "metadata": {},
   "outputs": [
    {
     "name": "stdout",
     "output_type": "stream",
     "text": [
      "Building Sift1M\n"
     ]
    },
    {
     "name": "stderr",
     "output_type": "stream",
     "text": [
      "Dl Completed...: 0 url [00:00, ? url/s]\n",
      "Dl Completed...:   0%|          | 0/1 [00:01<?, ? url/s]\n",
      "Dl Completed...: 100%|██████████| 1/1 [00:01<00:00,  1.50s/ url]\n",
      "Dl Completed...: 100%|██████████| 1/1 [00:01<00:00,  1.50s/ url]\n",
      "Dl Completed...: 100%|██████████| 1/1 [00:01<00:00,  1.50s/ url]\n",
      "Extraction completed...: 0 file [00:01, ? file/s]\n",
      "Dl Size...: 100%|██████████| 525128288/525128288 [00:01<00:00, 349519867.51 MiB/s]\n",
      "Dl Completed...: 100%|██████████| 1/1 [00:01<00:00,  1.50s/ url]\n"
     ]
    }
   ],
   "source": [
    "# download (if not downloaded) and build sift1m dataset\n",
    "dataset_download_path = \"D:/College/SysML/dataset\" # a folder to cache dataset contents that are downloaded\n",
    "splits = build_sift1m(dataset_download_path)"
   ]
  },
  {
   "cell_type": "code",
   "execution_count": 5,
   "metadata": {},
   "outputs": [
    {
     "name": "stdout",
     "output_type": "stream",
     "text": [
      "Building Train Split Array\n",
      "Progress: 10.0%\n",
      "Progress: 20.0%\n",
      "Progress: 30.0%\n",
      "Progress: 40.0%\n",
      "Progress: 50.0%\n",
      "Progress: 60.0%\n",
      "Progress: 70.0%\n",
      "Progress: 80.0%\n",
      "Progress: 90.0%\n",
      "Progress: 100.0%\n",
      "[[  0.  16.  35. ...  25.  23.   1.]\n",
      " [ 14.  35.  19. ...  11.  21.  33.]\n",
      " [  0.   1.   5. ...   4.  23.  10.]\n",
      " ...\n",
      " [ 30.  12.  12. ...  50.  10.   0.]\n",
      " [  0.   5.  12. ...   1.   2.  13.]\n",
      " [114.  31.   0. ...  25.  16.   0.]]\n",
      "128\n"
     ]
    }
   ],
   "source": [
    "# make and print train split input array (1 million embedding arrays of length 128)\n",
    "train_input_array = get_train_split(splits)\n",
    "\n",
    "print(train_input_array)\n",
    "print(train_input_array.shape[1])"
   ]
  },
  {
   "cell_type": "code",
   "execution_count": 4,
   "metadata": {},
   "outputs": [
    {
     "name": "stdout",
     "output_type": "stream",
     "text": [
      "Progress: 50.0%\n",
      "Progress: 100.0%\n",
      "[[  1.   3.  11. ...  42.  48.  11.]\n",
      " [ 40.  25.  11. ...   3.  19.  13.]\n",
      " [ 28.   4.   3. ...   2.  54.  47.]\n",
      " ...\n",
      " [  0.  15.  64. ...   3.  62. 118.]\n",
      " [131.   2.   0. ...   7.   0.   0.]\n",
      " [ 23.   0.   0. ...  79.  16.   4.]]\n",
      "128\n"
     ]
    }
   ],
   "source": [
    "# make and print test split input array (10k embedding arrays of length 128)\n",
    "test_input_array = get_test_split(splits)\n",
    "\n",
    "print(test_input_array)\n",
    "print(test_input_array.shape[1])"
   ]
  }
 ],
 "metadata": {
  "kernelspec": {
   "display_name": "Python 3",
   "language": "python",
   "name": "python3"
  },
  "language_info": {
   "codemirror_mode": {
    "name": "ipython",
    "version": 3
   },
   "file_extension": ".py",
   "mimetype": "text/x-python",
   "name": "python",
   "nbconvert_exporter": "python",
   "pygments_lexer": "ipython3",
   "version": "3.12.2"
  }
 },
 "nbformat": 4,
 "nbformat_minor": 2
}
