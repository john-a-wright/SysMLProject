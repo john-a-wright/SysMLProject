{
 "cells": [
  {
   "cell_type": "code",
   "execution_count": 1,
   "metadata": {},
   "outputs": [
    {
     "name": "stderr",
     "output_type": "stream",
     "text": [
      "c:\\Users\\John\\AppData\\Local\\Programs\\Python\\Python312\\Lib\\site-packages\\tqdm\\auto.py:21: TqdmWarning: IProgress not found. Please update jupyter and ipywidgets. See https://ipywidgets.readthedocs.io/en/stable/user_install.html\n",
      "  from .autonotebook import tqdm as notebook_tqdm\n"
     ]
    }
   ],
   "source": [
    "# imports\n",
    "from sit1m_data_preprocessing import *\n",
    "import numpy as np"
   ]
  },
  {
   "cell_type": "code",
   "execution_count": 2,
   "metadata": {},
   "outputs": [
    {
     "name": "stdout",
     "output_type": "stream",
     "text": [
      "Building Sift1M\n"
     ]
    },
    {
     "name": "stderr",
     "output_type": "stream",
     "text": [
      "Dl Completed...: 0 url [00:00, ? url/s]\n",
      "\u001b[A"
     ]
    },
    {
     "name": "stderr",
     "output_type": "stream",
     "text": [
      "Dl Completed...:   0%|          | 0/1 [00:01<?, ? url/s]\n",
      "Dl Completed...: 100%|██████████| 1/1 [00:01<00:00,  1.44s/ url]\n",
      "Dl Completed...: 100%|██████████| 1/1 [00:01<00:00,  1.44s/ url]\n",
      "Dl Completed...: 100%|██████████| 1/1 [00:01<00:00,  1.44s/ url]\n",
      "Extraction completed...: 0 file [00:01, ? file/s]\n",
      "Dl Size...: 100%|██████████| 525128288/525128288 [00:01<00:00, 362357740.26 MiB/s]\n",
      "Dl Completed...: 100%|██████████| 1/1 [00:01<00:00,  1.45s/ url]\n"
     ]
    }
   ],
   "source": [
    "# download (if not downloaded) and build sift1m dataset\n",
    "dataset_download_path = \"D:/College/SysML/dataset\" # a folder to cache dataset contents that are downloaded\n",
    "splits = build_sift1m(dataset_download_path)"
   ]
  },
  {
   "cell_type": "code",
   "execution_count": 3,
   "metadata": {},
   "outputs": [
    {
     "name": "stdout",
     "output_type": "stream",
     "text": [
      "Building Train Split Array\n",
      "Progress: 10.0%\n",
      "Progress: 20.0%\n",
      "Progress: 30.0%\n",
      "Progress: 40.0%\n",
      "Progress: 50.0%\n",
      "Progress: 60.0%\n",
      "Progress: 70.0%\n",
      "Progress: 80.0%\n",
      "Progress: 90.0%\n",
      "Progress: 100.0%\n",
      "[[  0.  16.  35. ...  25.  23.   1.]\n",
      " [ 14.  35.  19. ...  11.  21.  33.]\n",
      " [  0.   1.   5. ...   4.  23.  10.]\n",
      " ...\n",
      " [ 30.  12.  12. ...  50.  10.   0.]\n",
      " [  0.   5.  12. ...   1.   2.  13.]\n",
      " [114.  31.   0. ...  25.  16.   0.]]\n",
      "128\n"
     ]
    }
   ],
   "source": [
    "# make and print train split input array (1 million embedding arrays of length 128)\n",
    "train_input_array = get_train_split(splits)\n",
    "\n",
    "print(train_input_array)\n",
    "print(train_input_array.shape[1])"
   ]
  },
  {
   "cell_type": "code",
   "execution_count": 4,
   "metadata": {},
   "outputs": [
    {
     "name": "stdout",
     "output_type": "stream",
     "text": [
      "Progress: 50.0%\n",
      "Progress: 100.0%\n",
      "[[  1.   3.  11. ...  42.  48.  11.]\n",
      " [ 40.  25.  11. ...   3.  19.  13.]\n",
      " [ 28.   4.   3. ...   2.  54.  47.]\n",
      " ...\n",
      " [  0.  15.  64. ...   3.  62. 118.]\n",
      " [131.   2.   0. ...   7.   0.   0.]\n",
      " [ 23.   0.   0. ...  79.  16.   4.]]\n",
      "128\n"
     ]
    }
   ],
   "source": [
    "# make and print test split input array (10k embedding arrays of length 128)\n",
    "test_input_array, neighbors = get_test_split(splits)\n",
    "\n",
    "print(test_input_array)\n",
    "print(test_input_array.shape[1])"
   ]
  },
  {
   "cell_type": "markdown",
   "metadata": {},
   "source": [
    "## PQ Test"
   ]
  },
  {
   "cell_type": "code",
   "execution_count": 6,
   "metadata": {},
   "outputs": [],
   "source": [
    "import os\n",
    "os.environ[\"KMP_DUPLICATE_LIB_OK\"]=\"TRUE\"\n",
    "\n",
    "import faiss"
   ]
  },
  {
   "cell_type": "code",
   "execution_count": 7,
   "metadata": {},
   "outputs": [],
   "source": [
    "dim = train_input_array.shape[1]\n",
    "numSubVectors = 8\n",
    "subVectorBits = 8\n",
    "\n",
    "pq = faiss.IndexPQ(dim, numSubVectors, subVectorBits)"
   ]
  },
  {
   "cell_type": "code",
   "execution_count": 8,
   "metadata": {},
   "outputs": [],
   "source": [
    "pq.train(train_input_array)"
   ]
  },
  {
   "cell_type": "code",
   "execution_count": 9,
   "metadata": {},
   "outputs": [],
   "source": [
    "pq.add(train_input_array)"
   ]
  },
  {
   "cell_type": "code",
   "execution_count": 15,
   "metadata": {},
   "outputs": [],
   "source": [
    "k = 5\n",
    "distances, indexes = pq.search(test_input_array[:10000], k)"
   ]
  },
  {
   "cell_type": "code",
   "execution_count": 16,
   "metadata": {},
   "outputs": [
    {
     "name": "stdout",
     "output_type": "stream",
     "text": [
      "0.5851\n"
     ]
    }
   ],
   "source": [
    "t = 25\n",
    "i = 0\n",
    "relevantPercent = []\n",
    "\n",
    "for entry in neighbors:\n",
    "\n",
    "    topIndexs = []\n",
    "    for x in range(t):\n",
    "        index_dict = entry[x]\n",
    "        topIndexs.append(index_dict[\"index\"])\n",
    "\n",
    "    search_results = indexes[i]\n",
    "\n",
    "    count = 0\n",
    "\n",
    "    for x in search_results:\n",
    "        if x in topIndexs:\n",
    "            count+=1\n",
    "\n",
    "    relevantPercent.append(count/k)\n",
    "    \n",
    "    i=i+1\n",
    "        \n",
    "\n",
    "print(sum(relevantPercent) / len(relevantPercent))"
   ]
  },
  {
   "cell_type": "markdown",
   "metadata": {},
   "source": [
    "## Non-FSQ VQVAE "
   ]
  },
  {
   "cell_type": "code",
   "execution_count": null,
   "metadata": {},
   "outputs": [],
   "source": [
    "import torch"
   ]
  }
 ],
 "metadata": {
  "kernelspec": {
   "display_name": "Python 3",
   "language": "python",
   "name": "python3"
  },
  "language_info": {
   "codemirror_mode": {
    "name": "ipython",
    "version": 3
   },
   "file_extension": ".py",
   "mimetype": "text/x-python",
   "name": "python",
   "nbconvert_exporter": "python",
   "pygments_lexer": "ipython3",
   "version": "3.12.2"
  }
 },
 "nbformat": 4,
 "nbformat_minor": 2
}
